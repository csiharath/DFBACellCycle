{
 "cells": [
  {
   "cell_type": "code",
   "execution_count": 1,
   "id": "0c935446",
   "metadata": {},
   "outputs": [],
   "source": [
    "import cobra\n",
    "from BOFdat import step1,step2,step3\n",
    "from BOFdat.util import update\n",
    "from cobra.util.solver import linear_reaction_coefficients"
   ]
  },
  {
   "cell_type": "code",
   "execution_count": 2,
   "id": "832cb71e",
   "metadata": {},
   "outputs": [],
   "source": [
    "#Set parameters based on dry weight composition\n",
    "dna_weight_fraction = 0.031 # 7% nuclei acid\n",
    "rna_weight_fraction = 0.205\n",
    "protein_weight_fraction = 0.71\n",
    "lipid_weight_fraction = 0.12\n",
    "metabolite_weight_fraction = 0.1"
   ]
  },
  {
   "cell_type": "code",
   "execution_count": null,
   "id": "accc103f",
   "metadata": {},
   "outputs": [],
   "source": [
    "#Give the path to each file as function parameters\n",
    "#Genome file in BioPython supported format (.faa, .fna) and GenBank file \n",
    "#also in BioPython supported format (.gb, .gbff)\n",
    "genome = '/home/csiharath/Stage/GRCh37_latest_genomic.fna'\n",
    "genbank = 'Ecoli_K12_MG1655.gbff'\n",
    "\n",
    "#OMICs data as a 2 column csv file, gene and abundance\n",
    "transcriptomic = 'transcriptomic.csv'\n",
    "proteomic = 'proteomic.csv'\n",
    "\n",
    "#Lipidomic abundances and conversion to model identifier\n",
    "lipidomic_abundances = 'lipidomic_abundances.csv'\n",
    "lipidomic_conversion = 'lipidomic_conversion.csv'\n",
    "\n",
    "#Metabolomic abundances and conversion to model identifier\n",
    "metabolomic_abundances = 'metabolomic_abundances.csv'\n",
    "metabolomic_conversion = 'metabolomic_conversion.csv'\n",
    "\n",
    "#Growth data on different carbon sources, uptake and secretion rates\n",
    "maintenance = 'maintenance.csv'\n",
    "\n",
    "#The model for which the coefficients are generated\n",
    "model = 'iML1515.json'\n"
   ]
  }
 ],
 "metadata": {
  "kernelspec": {
   "display_name": "Python 3 (ipykernel)",
   "language": "python",
   "name": "python3"
  },
  "language_info": {
   "codemirror_mode": {
    "name": "ipython",
    "version": 3
   },
   "file_extension": ".py",
   "mimetype": "text/x-python",
   "name": "python",
   "nbconvert_exporter": "python",
   "pygments_lexer": "ipython3",
   "version": "3.8.13"
  }
 },
 "nbformat": 4,
 "nbformat_minor": 5
}
